{
  "nbformat": 4,
  "nbformat_minor": 0,
  "metadata": {
    "colab": {
      "provenance": []
    },
    "kernelspec": {
      "name": "python3",
      "display_name": "Python 3"
    },
    "language_info": {
      "name": "python"
    }
  },
  "cells": [
    {
      "cell_type": "code",
      "execution_count": 4,
      "metadata": {
        "colab": {
          "base_uri": "https://localhost:8080/"
        },
        "id": "5XCLwp6m8okL",
        "outputId": "6777d82e-bf3b-4473-e2f8-23a035843b9a"
      },
      "outputs": [
        {
          "output_type": "stream",
          "name": "stdout",
          "text": [
            "Первые 15 ключей:\n",
            "5 8 13 21 34 5 39 44 33 27 10 37 47 34 31 "
          ]
        }
      ],
      "source": [
        "def generate_additive_sequence(initial1, initial2, modulus):\n",
        "    \"\"\"\n",
        "    Генератор бесконечной последовательности псевдослучайных чисел на основе аддитивного метода.\n",
        "\n",
        "    :param initial1: первое начальное значение\n",
        "    :param initial2: второе начальное значение\n",
        "    :param modulus: модуль (ограничение диапазона)\n",
        "    :yield: следующее значение последовательности\n",
        "    \"\"\"\n",
        "    prev1, prev2 = initial1, initial2\n",
        "    while True:\n",
        "        next_value = (prev1 + prev2) % modulus\n",
        "        yield next_value\n",
        "        prev1, prev2 = prev2, next_value\n",
        "\n",
        "# Параметры генератора\n",
        "initial1 = 2  # Первое начальное значение\n",
        "initial2 = 3  # Второе начальное значение\n",
        "modulus = 50  # Модуль (ограничение диапазона)\n",
        "\n",
        "# Создаем генератор\n",
        "sequence_generator = generate_additive_sequence(initial1, initial2, modulus)\n",
        "\n",
        "# Пример использования: вывод первых 15 ключей\n",
        "print(\"Первые 15 ключей:\")\n",
        "for _ in range(15):\n",
        "    print(next(sequence_generator), end=\" \")"
      ]
    }
  ]
}
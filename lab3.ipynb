{
  "nbformat": 4,
  "nbformat_minor": 0,
  "metadata": {
    "colab": {
      "provenance": []
    },
    "kernelspec": {
      "name": "python3",
      "display_name": "Python 3"
    },
    "language_info": {
      "name": "python"
    }
  },
  "cells": [
    {
      "cell_type": "code",
      "execution_count": 3,
      "metadata": {
        "colab": {
          "base_uri": "https://localhost:8080/"
        },
        "id": "5XCLwp6m8okL",
        "outputId": "729c30bf-b07e-47e3-8813-ab06dab91937"
      },
      "outputs": [
        {
          "output_type": "stream",
          "name": "stdout",
          "text": [
            "Сгенерированная последовательность: [1234, 7850, 3746, 7738, 2290, 5194, 1986, 1242, 7954, 5098, 738, 1402, 1842, 7562, 2]\n"
          ]
        }
      ],
      "source": [
        "def generate_random_sequence(multiplier, modulus, seed, count):\n",
        "    \"\"\"\n",
        "    Генерация последовательности псевдослучайных чисел с использованием линейного конгруэнтного метода.\n",
        "\n",
        "    :param multiplier: множитель\n",
        "    :param modulus: модуль\n",
        "    :param seed: начальное значение (seed)\n",
        "    :param count: количество чисел в последовательности\n",
        "    :return: список псевдослучайных чисел\n",
        "    \"\"\"\n",
        "    sequence = [seed]\n",
        "    for _ in range(count - 1):\n",
        "        next_value = (multiplier * sequence[-1]) % modulus\n",
        "        sequence.append(next_value)\n",
        "    return sequence\n",
        "\n",
        "# Параметры\n",
        "multiplier = 13\n",
        "modulus = 8192\n",
        "seed = 1234\n",
        "count = 15  # Количество чисел в последовательности\n",
        "\n",
        "# Генерация последовательности\n",
        "random_sequence = generate_random_sequence(multiplier, modulus, seed, count)\n",
        "\n",
        "# Вывод результата\n",
        "print(\"Сгенерированная последовательность:\", random_sequence)"
      ]
    }
  ]
}
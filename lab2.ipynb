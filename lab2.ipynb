{
  "nbformat": 4,
  "nbformat_minor": 0,
  "metadata": {
    "colab": {
      "provenance": []
    },
    "kernelspec": {
      "name": "python3",
      "display_name": "Python 3"
    },
    "language_info": {
      "name": "python"
    }
  },
  "cells": [
    {
      "cell_type": "code",
      "execution_count": 2,
      "metadata": {
        "colab": {
          "base_uri": "https://localhost:8080/"
        },
        "id": "5XCLwp6m8okL",
        "outputId": "3ba95893-80cc-4576-c8e7-f9a2c643aafe"
      },
      "outputs": [
        {
          "output_type": "stream",
          "name": "stdout",
          "text": [
            "Исходный текст: SECRETMESSAGE\n",
            "Зашифрованный текст: GMYZMNQMGGKAM\n",
            "Расшифрованный текст: SECRETMESSAGE\n"
          ]
        }
      ],
      "source": [
        "from math import gcd\n",
        "\n",
        "# Функция для нахождения обратного элемента по модулю\n",
        "def find_inverse(k, n):\n",
        "    for i in range(1, n):\n",
        "        if (k * i) % n == 1:\n",
        "            return i\n",
        "    raise ValueError(f\"Обратный элемент для {k} по модулю {n} не существует.\")\n",
        "\n",
        "# Функция для шифрования текста\n",
        "def encode_text(text, key1, key2, n=26):\n",
        "    encoded_text = \"\"\n",
        "    for char in text:\n",
        "        if char.isalpha():\n",
        "            # Преобразуем символ в число (0-25)\n",
        "            is_upper = char.isupper()\n",
        "            x = ord(char.upper()) - ord('A')\n",
        "            # Применяем формулу шифрования\n",
        "            y = (key1 * x + key2) % n\n",
        "            # Преобразуем обратно в символ\n",
        "            encoded_char = chr(y + ord('A'))\n",
        "            encoded_text += encoded_char if is_upper else encoded_char.lower()\n",
        "        else:\n",
        "            encoded_text += char  # Не шифруем неалфавитные символы\n",
        "    return encoded_text\n",
        "\n",
        "# Функция для расшифрования текста\n",
        "def decode_text(encoded_text, key1, key2, n=26):\n",
        "    decoded_text = \"\"\n",
        "    key1_inverse = find_inverse(key1, n)  # Находим обратный элемент\n",
        "    for char in encoded_text:\n",
        "        if char.isalpha():\n",
        "            # Преобразуем символ в число (0-25)\n",
        "            is_upper = char.isupper()\n",
        "            y = ord(char.upper()) - ord('A')\n",
        "            # Применяем формулу расшифрования\n",
        "            x = (key1_inverse * (y - key2)) % n\n",
        "            # Преобразуем обратно в символ\n",
        "            decoded_char = chr(x + ord('A'))\n",
        "            decoded_text += decoded_char if is_upper else decoded_char.lower()\n",
        "        else:\n",
        "            decoded_text += char  # Не расшифруем неалфавитные символы\n",
        "    return decoded_text.strip()\n",
        "\n",
        "# Пример использования\n",
        "if __name__ == \"__main__\":\n",
        "    text = \"SECRETMESSAGE\"\n",
        "    key1 = 7  # Первый ключ\n",
        "    key2 = 10  # Второй ключ\n",
        "\n",
        "    print(\"Исходный текст:\", text)\n",
        "\n",
        "    encoded = encode_text(text, key1, key2)\n",
        "    print(\"Зашифрованный текст:\", encoded)\n",
        "\n",
        "    decoded = decode_text(encoded, key1, key2)\n",
        "    print(\"Расшифрованный текст:\", decoded)"
      ]
    }
  ]
}
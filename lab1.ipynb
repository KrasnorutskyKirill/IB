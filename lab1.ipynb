{
  "nbformat": 4,
  "nbformat_minor": 0,
  "metadata": {
    "colab": {
      "provenance": []
    },
    "kernelspec": {
      "name": "python3",
      "display_name": "Python 3"
    },
    "language_info": {
      "name": "python"
    }
  },
  "cells": [
    {
      "cell_type": "code",
      "execution_count": 1,
      "metadata": {
        "colab": {
          "base_uri": "https://localhost:8080/"
        },
        "id": "5XCLwp6m8okL",
        "outputId": "00214d56-469b-4844-ca7f-1911c3fe5ce7"
      },
      "outputs": [
        {
          "output_type": "stream",
          "name": "stdout",
          "text": [
            "Исходное сообщение: ПРИМЕРТЕКСТАДЛЯШИФРОВАНИЯ\n",
            "Закодированное сообщение: ПЕКДИВЯРРСЛФА ИТТЯРН МЕАШОИ \n",
            "Декодированное сообщение: ПРИМЕРТЕКСТАДЛЯШИФРОВАНИЯ\n"
          ]
        }
      ],
      "source": [
        "import math\n",
        "\n",
        "# Функция для кодирования сообщения методом \"Решетка\"\n",
        "def encode_message(message, key):\n",
        "    # Убираем пробелы и приводим текст к верхнему регистру\n",
        "    message = message.replace(\" \", \"\").upper()\n",
        "\n",
        "    # Определяем количество строк\n",
        "    rows = math.ceil(len(message) / key)\n",
        "\n",
        "    # Заполняем таблицу по строкам\n",
        "    grid = [[\" \" for _ in range(key)] for _ in range(rows)]\n",
        "    pos = 0\n",
        "\n",
        "    for i in range(rows):\n",
        "        for j in range(key):\n",
        "            if pos < len(message):\n",
        "                grid[i][j] = message[pos]\n",
        "                pos += 1\n",
        "\n",
        "    # Считываем текст по столбцам\n",
        "    encoded_text = \"\"\n",
        "    for j in range(key):\n",
        "        for i in range(rows):\n",
        "            encoded_text += grid[i][j]\n",
        "\n",
        "    return encoded_text\n",
        "\n",
        "\n",
        "# Функция для декодирования сообщения методом \"Решетка\"\n",
        "def decode_message(encoded_message, key):\n",
        "    # Определяем количество строк\n",
        "    rows = math.ceil(len(encoded_message) / key)\n",
        "\n",
        "    # Заполняем таблицу по столбцам\n",
        "    grid = [[\" \" for _ in range(key)] for _ in range(rows)]\n",
        "    pos = 0\n",
        "\n",
        "    for j in range(key):\n",
        "        for i in range(rows):\n",
        "            if pos < len(encoded_message):\n",
        "                grid[i][j] = encoded_message[pos]\n",
        "                pos += 1\n",
        "\n",
        "    # Считываем текст по строкам\n",
        "    decoded_text = \"\"\n",
        "    for i in range(rows):\n",
        "        for j in range(key):\n",
        "            decoded_text += grid[i][j]\n",
        "\n",
        "    return decoded_text.strip()\n",
        "\n",
        "\n",
        "# Пример использования\n",
        "if __name__ == \"__main__\":\n",
        "    original_message = \"ПРИМЕРТЕКСТАДЛЯШИФРОВАНИЯ\"\n",
        "    key = 4\n",
        "\n",
        "    print(\"Исходное сообщение:\", original_message)\n",
        "\n",
        "    encoded = encode_message(original_message, key)\n",
        "    print(\"Закодированное сообщение:\", encoded)\n",
        "\n",
        "    decoded = decode_message(encoded, key)\n",
        "    print(\"Декодированное сообщение:\", decoded)"
      ]
    }
  ]
}